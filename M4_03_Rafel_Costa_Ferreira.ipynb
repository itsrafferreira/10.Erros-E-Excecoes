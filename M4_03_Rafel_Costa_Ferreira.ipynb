{
 "cells": [
  {
   "cell_type": "markdown",
   "metadata": {},
   "source": [
    "# Exercícios Módulo 4. Unidade 3. Erros e Exceções (Soluções)\n",
    "\n",
    "Considerações a ter em conta: \n",
    "\n",
    "* Guardar este documento com o seguinte formato para entrega: __M4_03_nome_apelido1_apelido2__\n",
    "* Fazer os exercícios com as ferramentas vistas nas sessões. \n",
    "* Comentar o código\n",
    "* Utilizar nomes de variáveis apropriados, se vai guardar uma nota, chamar a essa variável nota, não n ou x"
   ]
  },
  {
   "cell_type": "markdown",
   "metadata": {},
   "source": [
    "**1)  Localizar o erro no seguinte bloco de código. Criar uma exceção para evitar que o programa bloqueia e adicionar uma explicação numa mensagem ao utilizador com a causa e/ou solução::**"
   ]
  },
  {
   "cell_type": "code",
   "execution_count": 5,
   "metadata": {},
   "outputs": [
    {
     "name": "stdout",
     "output_type": "stream",
     "text": [
      "Erro: division by zero\n",
      "Não é possível dividir por zero. No futuro ajustar os valores para evitar essa situação.\n"
     ]
    }
   ],
   "source": [
    "try:\n",
    "    # Tentar realizar a divisão\n",
    "    resultado = 10/0\n",
    "\n",
    "except ZeroDivisionError as e:\n",
    "    # Exceção específica para divisão por zero\n",
    "    print(f\"Erro: {e}\")\n",
    "    print(\"Não é possível dividir por zero. No futuro ajustar os valores para evitar essa situação.\")"
   ]
  },
  {
   "cell_type": "markdown",
   "metadata": {},
   "source": [
    "**2)  Localizar o erro no seguinte bloco de código. Criar uma exceção para evitar que o programa bloqueia e adicionar uma explicação numa mensagem ao utilizador com a causa e/ou solução::**"
   ]
  },
  {
   "cell_type": "code",
   "execution_count": 6,
   "metadata": {},
   "outputs": [
    {
     "name": "stdout",
     "output_type": "stream",
     "text": [
      "Erro: list index out of range\n",
      "O índice fornecido está fora dos limites da lista. No futuro fornecer um índice válido.\n"
     ]
    }
   ],
   "source": [
    "try:\n",
    "    # Tentar aceder a um elemento fora dos limites da lista\n",
    "    lista = [1, 2, 3, 4, 5]\n",
    "    elemento = lista[10]\n",
    "\n",
    "except IndexError as e:\n",
    "    # Exceção específica para índice fora dos limites\n",
    "    print(f\"Erro: {e}\")\n",
    "    print(\"O índice fornecido está fora dos limites da lista. No futuro fornecer um índice válido.\")"
   ]
  },
  {
   "cell_type": "markdown",
   "metadata": {},
   "source": [
    "**3)  Localizar o erro no seguinte bloco de código. Criar uma exceção para evitar que o programa bloqueia e adicionar uma explicação numa mensagem ao utilizador com a causa e/ou solução::**"
   ]
  },
  {
   "cell_type": "code",
   "execution_count": 7,
   "metadata": {},
   "outputs": [
    {
     "name": "stdout",
     "output_type": "stream",
     "text": [
      "Erro: 'branco'\n",
      "A chave fornecida não existe no dicionário de cores. No futuro fornecer uma chave válida.\n"
     ]
    }
   ],
   "source": [
    "cores = {'vermelho': 'red', 'verde': 'green', 'preto': 'black'}\n",
    "\n",
    "try:\n",
    "    # Tentar aceder uma chave inexistente no dicionário\n",
    "    cor_branco = cores['branco']\n",
    "\n",
    "except KeyError as e:\n",
    "    # Exceção específica para chave inexistente\n",
    "    print(f\"Erro: {e}\")\n",
    "    print(\"A chave fornecida não existe no dicionário de cores. No futuro fornecer uma chave válida.\")"
   ]
  },
  {
   "cell_type": "markdown",
   "metadata": {},
   "source": [
    "**4) Localizar o erro no seguinte bloco de código. Criar uma exceção para evitar que o programa bloqueia e adicionar uma explicação numa mensagem ao utilizador com a causa e/ou solução::**"
   ]
  },
  {
   "cell_type": "code",
   "execution_count": 9,
   "metadata": {},
   "outputs": [
    {
     "name": "stdout",
     "output_type": "stream",
     "text": [
      "Erro: can only concatenate str (not \"int\") to str\n",
      "Não é possível adicionar uma string a um número. No futuro certificar que são do mesmo tipo.\n"
     ]
    }
   ],
   "source": [
    "try:\n",
    "    # Tentar somar uma string a número inteiro\n",
    "    resultado = \"20\" + 15\n",
    "\n",
    "except TypeError as e:\n",
    "    # Exceção específica para tipos incompatíveis\n",
    "    print(f\"Erro: {e}\")\n",
    "    print(\"Não é possível somar uma string a um número. No futuro certificar que são do mesmo tipo.\")"
   ]
  },
  {
   "cell_type": "markdown",
   "metadata": {},
   "source": [
    "**5)  Realizar uma função chamada agregar_uma_vez() que receba uma lista e um elemento como argumento. A função deve adicionar o elemento ao final da lista com a condição de não repetir nenhum elemento. Se este elemento já se encontra na lista deve-se invocar um erro de tipo ValueError que deve capturar e mostrar esta mensagem no seu lugar:**\n",
    "\n",
    "```\n",
    "  Erro: Impossível adicionar elementos duplicados => [elemento].\n",
    "```\n",
    "**Teste agregar os elementos 10, -2, “Olá” à lista de elementos com a função que criou e mostrar o seu conteúdo**\n",
    "\n",
    "*Pista: Pode utilizar a sintaxis: elemento in lista*"
   ]
  },
  {
   "cell_type": "code",
   "execution_count": 10,
   "metadata": {},
   "outputs": [
    {
     "name": "stdout",
     "output_type": "stream",
     "text": [
      "Erro: Impossível adicionar elementos duplicados => -2\n",
      "Conteúdo da lista após adicionar elementos: [1, 5, -2, 10]\n"
     ]
    }
   ],
   "source": [
    "def agregar_uma_vez(lista, elemento):\n",
    "    \n",
    "    # Verificar se o elemento já está na lista\n",
    "    if elemento in lista:\n",
    "        \n",
    "    # Se o elemento já existe na lista, lançar um erro de ValueError\n",
    "        raise ValueError(f\"Erro: Impossível adicionar elementos duplicados => {elemento}\")\n",
    "    else:\n",
    "        \n",
    "    # Adicionar o elemento ao final da lista se não estiver duplicado\n",
    "        lista.append(elemento)\n",
    "\n",
    "# Lista de elementos inicial\n",
    "elementos = [1, 5, -2]\n",
    "\n",
    "# Testar a função com os elementos 10, -2, \"Olá\"\n",
    "try:\n",
    "    agregar_uma_vez(elementos, 10)\n",
    "    agregar_uma_vez(elementos, -2)\n",
    "    agregar_uma_vez(elementos, \"Olá\")\n",
    "\n",
    "except ValueError as e:\n",
    "    \n",
    "    # Capturar o erro e mostrar a mensagem associada\n",
    "    print(e)\n",
    "\n",
    "# Imprimir o resultado\n",
    "print(\"Conteúdo da lista após adicionar elementos:\", elementos)"
   ]
  },
  {
   "cell_type": "markdown",
   "metadata": {},
   "source": [
    "**6) Pesquisa na documentação outra exceção que não se utilizou até agora e realiza os seguintes passos:**\n",
    "* Provocar o erro num código de exemplo.\n",
    "* Uma vez que as tenha provocado, controlá-las com try-except \n",
    "* Mostrar ao utilizador com uma mensagem personalizada, que estará dentro do except. "
   ]
  },
  {
   "cell_type": "code",
   "execution_count": 11,
   "metadata": {},
   "outputs": [
    {
     "name": "stdout",
     "output_type": "stream",
     "text": [
      "Erro: [Errno 2] No such file or directory: 'arquivo_inexistente.txt'\n",
      "O arquivo especificado não foi encontrado. Certifique-se de que o nome do arquivo está correto.\n"
     ]
    }
   ],
   "source": [
    "try:\n",
    "    # Provocar um erro tentando abrir um arquivo que não existe\n",
    "    with open(\"arquivo_inexistente.txt\", \"r\") as arquivo:\n",
    "        conteudo = arquivo.read()\n",
    "\n",
    "except FileNotFoundError as e:\n",
    "    # Controlar a exceção e mostrar uma mensagem personalizada\n",
    "    print(f\"Erro: {e}\")\n",
    "    print(\"O arquivo especificado não foi encontrado. Certifique-se de que o nome do arquivo está correto.\")\n"
   ]
  },
  {
   "cell_type": "code",
   "execution_count": null,
   "metadata": {},
   "outputs": [],
   "source": []
  }
 ],
 "metadata": {
  "anaconda-cloud": {},
  "kernelspec": {
   "display_name": "Python 3 (ipykernel)",
   "language": "python",
   "name": "python3"
  },
  "language_info": {
   "codemirror_mode": {
    "name": "ipython",
    "version": 3
   },
   "file_extension": ".py",
   "mimetype": "text/x-python",
   "name": "python",
   "nbconvert_exporter": "python",
   "pygments_lexer": "ipython3",
   "version": "3.11.5"
  }
 },
 "nbformat": 4,
 "nbformat_minor": 1
}
